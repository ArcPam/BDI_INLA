{
  "nbformat": 4,
  "nbformat_minor": 0,
  "metadata": {
    "colab": {
      "provenance": [],
      "authorship_tag": "ABX9TyNRNDCDT1nrjmnGd7scVnPt",
      "include_colab_link": true
    },
    "kernelspec": {
      "name": "ir",
      "display_name": "R"
    },
    "language_info": {
      "name": "R"
    }
  },
  "cells": [
    {
      "cell_type": "markdown",
      "metadata": {
        "id": "view-in-github",
        "colab_type": "text"
      },
      "source": [
        "<a href=\"https://colab.research.google.com/github/ArcPam/BDI_INLA/blob/master/BHM_INLA.ipynb\" target=\"_parent\"><img src=\"https://colab.research.google.com/assets/colab-badge.svg\" alt=\"Open In Colab\"/></a>"
      ]
    },
    {
      "cell_type": "code",
      "execution_count": 11,
      "metadata": {
        "colab": {
          "base_uri": "https://localhost:8080/"
        },
        "id": "rLMPFKVB0Qe7",
        "outputId": "4a855094-23f6-46e4-c3a7-91e3779fa9be"
      },
      "outputs": [
        {
          "output_type": "stream",
          "name": "stderr",
          "text": [
            "Loading required package: ggregplot\n",
            "\n",
            "Warning message in library(package, lib.loc = lib.loc, character.only = TRUE, logical.return = TRUE, :\n",
            "“there is no package called ‘ggregplot’”\n",
            "Downloading GitHub repo gfalbery/ggregplot@HEAD\n",
            "\n"
          ]
        },
        {
          "output_type": "stream",
          "name": "stdout",
          "text": [
            "\u001b[36m──\u001b[39m \u001b[36mR CMD build\u001b[39m \u001b[36m─────────────────────────────────────────────────────────────────\u001b[39m\n",
            "* checking for file ‘/tmp/RtmpoYnuQm/remotes1b7619b0db5/gfalbery-ggregplot-3e3672d/DESCRIPTION’ ... OK\n",
            "* preparing ‘ggregplot’:\n",
            "* checking DESCRIPTION meta-information ... OK\n",
            "* checking for LF line-endings in source and make files and shell scripts\n",
            "* checking for empty or unneeded directories\n",
            "Omitted ‘LazyData’ from DESCRIPTION\n",
            "* building ‘ggregplot_0.1.0.tar.gz’\n",
            "\n"
          ]
        },
        {
          "output_type": "stream",
          "name": "stderr",
          "text": [
            "Installing package into ‘/usr/local/lib/R/site-library’\n",
            "(as ‘lib’ is unspecified)\n",
            "\n",
            "Downloading GitHub repo rsbivand/sp@evolution\n",
            "\n"
          ]
        },
        {
          "output_type": "stream",
          "name": "stdout",
          "text": [
            "\u001b[36m──\u001b[39m \u001b[36mR CMD build\u001b[39m \u001b[36m─────────────────────────────────────────────────────────────────\u001b[39m\n",
            "* checking for file ‘/tmp/RtmpoYnuQm/remotes1b7602c77e8/rsbivand-sp-ca7e6e0/DESCRIPTION’ ... OK\n",
            "* preparing ‘sp’:\n",
            "* checking DESCRIPTION meta-information ... OK\n",
            "* cleaning src\n",
            "* checking for LF line-endings in source and make files and shell scripts\n",
            "* checking for empty or unneeded directories\n",
            "* looking to see if a ‘data/datalist’ file should be added\n",
            "* building ‘sp_1.4-7.tar.gz’\n",
            "\n"
          ]
        },
        {
          "output_type": "stream",
          "name": "stderr",
          "text": [
            "Installing package into ‘/usr/local/lib/R/site-library’\n",
            "(as ‘lib’ is unspecified)\n",
            "\n",
            "Warning message in i.p(...):\n",
            "“installation of package ‘/tmp/RtmpoYnuQm/file1b7153c93e2/sp_1.4-7.tar.gz’ had non-zero exit status”\n"
          ]
        }
      ],
      "source": [
        "if(!require(ggregplot)) devtools::install_github(\"gfalbery/ggregplot\") # Installing Greg's package for plotting functions!\n",
        "devtools::install_github(\"rsbivand/sp@evolution\")"
      ]
    },
    {
      "cell_type": "code",
      "source": [
        "system(\"sudo apt-get install -y libproj-dev libgeos-dev\")"
      ],
      "metadata": {
        "id": "Qu0eCygB0UjW"
      },
      "execution_count": 12,
      "outputs": []
    },
    {
      "cell_type": "code",
      "source": [
        "install.packages(\"sf\")"
      ],
      "metadata": {
        "colab": {
          "base_uri": "https://localhost:8080/"
        },
        "id": "dpuVclKL7U3k",
        "outputId": "63080f8e-e202-49ad-bf70-ce4cc3970419"
      },
      "execution_count": 13,
      "outputs": [
        {
          "output_type": "stream",
          "name": "stderr",
          "text": [
            "Installing package into ‘/usr/local/lib/R/site-library’\n",
            "(as ‘lib’ is unspecified)\n",
            "\n"
          ]
        }
      ]
    },
    {
      "cell_type": "code",
      "source": [
        "install.packages(\"fmesher\")"
      ],
      "metadata": {
        "colab": {
          "base_uri": "https://localhost:8080/"
        },
        "id": "Tw6lZCqo7tRG",
        "outputId": "082d89f2-1b57-46b3-e5da-5e892e511b28"
      },
      "execution_count": 14,
      "outputs": [
        {
          "output_type": "stream",
          "name": "stderr",
          "text": [
            "Installing package into ‘/usr/local/lib/R/site-library’\n",
            "(as ‘lib’ is unspecified)\n",
            "\n"
          ]
        }
      ]
    },
    {
      "cell_type": "code",
      "source": [
        "library(sf) # package to work with spatial data\n",
        "library(ggplot2)\n",
        "library(ggregplot)\n",
        "library(tidyverse)\n",
        "library(RColorBrewer)"
      ],
      "metadata": {
        "id": "ooj3SVfW7Gq7"
      },
      "execution_count": 15,
      "outputs": []
    },
    {
      "cell_type": "code",
      "source": [
        "library(devtools)"
      ],
      "metadata": {
        "colab": {
          "base_uri": "https://localhost:8080/"
        },
        "id": "PgaSprvy0ZNu",
        "outputId": "1e98d143-7f42-4dbb-9901-f360c715480a"
      },
      "execution_count": 16,
      "outputs": [
        {
          "output_type": "stream",
          "name": "stderr",
          "text": [
            "Loading required package: usethis\n",
            "\n"
          ]
        }
      ]
    },
    {
      "cell_type": "code",
      "source": [
        "install.packages(\"BiocManager\")\n",
        "BiocManager::install(\"Rgraphviz\")"
      ],
      "metadata": {
        "colab": {
          "base_uri": "https://localhost:8080/"
        },
        "id": "w5-RN3xX1y7g",
        "outputId": "a786fa13-9720-43db-ffa9-3b9a909aeb22"
      },
      "execution_count": 17,
      "outputs": [
        {
          "output_type": "stream",
          "name": "stderr",
          "text": [
            "Installing package into ‘/usr/local/lib/R/site-library’\n",
            "(as ‘lib’ is unspecified)\n",
            "\n",
            "'getOption(\"repos\")' replaces Bioconductor standard repositories, see\n",
            "'help(\"repositories\", package = \"BiocManager\")' for details.\n",
            "Replacement repositories:\n",
            "    CRAN: https://cran.rstudio.com\n",
            "\n",
            "Bioconductor version 3.18 (BiocManager 1.30.22), R 4.3.2 (2023-10-31)\n",
            "\n",
            "Installing package(s) 'BiocVersion', 'Rgraphviz'\n",
            "\n",
            "also installing the dependencies ‘BiocGenerics’, ‘graph’\n",
            "\n",
            "\n",
            "Old packages: 'bit', 'bslib', 'curl', 'devtools', 'dplyr', 'gargle', 'highr',\n",
            "  'httr2', 'isoband', 'openssl', 'ragg', 'roxygen2', 'scales', 'stringi',\n",
            "  'stringr', 'textshaping', 'tinytex', 'whisker', 'boot', 'cluster', 'foreign',\n",
            "  'Matrix', 'nlme'\n",
            "\n"
          ]
        }
      ]
    },
    {
      "cell_type": "code",
      "source": [
        "BiocManager::install(\"gsl\")"
      ],
      "metadata": {
        "colab": {
          "base_uri": "https://localhost:8080/"
        },
        "id": "urY577GmHz84",
        "outputId": "36130c5b-d1e1-44eb-aa5f-0be8f95c9e52"
      },
      "execution_count": 18,
      "outputs": [
        {
          "output_type": "stream",
          "name": "stderr",
          "text": [
            "'getOption(\"repos\")' replaces Bioconductor standard repositories, see\n",
            "'help(\"repositories\", package = \"BiocManager\")' for details.\n",
            "Replacement repositories:\n",
            "    CRAN: https://cran.rstudio.com\n",
            "\n",
            "Bioconductor version 3.18 (BiocManager 1.30.22), R 4.3.2 (2023-10-31)\n",
            "\n",
            "Installing package(s) 'gsl'\n",
            "\n",
            "Warning message in install.packages(...):\n",
            "“installation of package ‘gsl’ had non-zero exit status”\n",
            "Old packages: 'bit', 'bslib', 'curl', 'devtools', 'dplyr', 'gargle', 'highr',\n",
            "  'httr2', 'isoband', 'openssl', 'ragg', 'roxygen2', 'scales', 'stringi',\n",
            "  'stringr', 'textshaping', 'tinytex', 'whisker', 'boot', 'cluster', 'foreign',\n",
            "  'Matrix', 'nlme'\n",
            "\n"
          ]
        }
      ]
    },
    {
      "cell_type": "code",
      "source": [
        "install.packages(\"INLA\",repos=c(getOption(\"repos\"),INLA=\"https://inla.r-inla-download.org/R/stable\"), dep=TRUE)"
      ],
      "metadata": {
        "colab": {
          "base_uri": "https://localhost:8080/"
        },
        "id": "-IwtcjCQ1q4W",
        "outputId": "cc977028-4b2b-4d72-d62f-8b980f0fcca2"
      },
      "execution_count": null,
      "outputs": [
        {
          "output_type": "stream",
          "name": "stderr",
          "text": [
            "Installing package into ‘/usr/local/lib/R/site-library’\n",
            "(as ‘lib’ is unspecified)\n",
            "\n",
            "also installing the dependencies ‘misc3d’, ‘locfit’, ‘ash’, ‘FNN’, ‘kernlab’, ‘mclust’, ‘multicool’, ‘plot3D’, ‘pracma’, ‘hdrcde’, ‘ks’, ‘bitops’, ‘rainbow’, ‘RCurl’, ‘DEoptimR’, ‘pcaPP’, ‘fds’, ‘deSolve’, ‘leaps’, ‘robustbase’, ‘inline’, ‘rrcov’, ‘fda’, ‘tis’, ‘jpeg’, ‘TeachingDemos’, ‘BMA’, ‘coda’, ‘mcmc’, ‘dotCall64’, ‘rbibutils’, ‘SparseM’, ‘Ecfun’, ‘MCMCpack’, ‘gtools’, ‘foreach’, ‘iterators’, ‘spam’, ‘maps’, ‘dfidx’, ‘Formula’, ‘zoo’, ‘lmtest’, ‘statmod’, ‘Rdpack’, ‘htmlwidgets’, ‘httpuv’, ‘xtable’, ‘sourcetools’, ‘later’, ‘promises’, ‘mnormt’, ‘quantreg’, ‘spData’, ‘Deriv’, ‘Ecdat’, ‘HKprocess’, ‘MatrixModels’, ‘deldir’, ‘doParallel’, ‘evd’, ‘fields’, ‘gsl’, ‘gridExtra’, ‘markdown’, ‘matrixStats’, ‘mlogit’, ‘mvtnorm’, ‘numDeriv’, ‘pixmap’, ‘rgl’, ‘shiny’, ‘sn’, ‘spdep’, ‘splancs’, ‘terra’, ‘tidyterra’, ‘INLAspacetime’\n",
            "\n",
            "\n",
            "Warning message in install.packages(\"INLA\", repos = c(getOption(\"repos\"), INLA = \"https://inla.r-inla-download.org/R/stable\"), :\n",
            "“installation of package ‘gsl’ had non-zero exit status”\n"
          ]
        }
      ]
    },
    {
      "cell_type": "code",
      "source": [
        "library(sf) # package to work with spatial data\n",
        "library(ggplot2)\n",
        "library(ggregplot)\n",
        "library(tidyverse)\n",
        "library(RColorBrewer)\n",
        "library(INLA)"
      ],
      "metadata": {
        "id": "YHMTZvbfJJw0"
      },
      "execution_count": null,
      "outputs": []
    },
    {
      "cell_type": "code",
      "source": [
        "install.packages(\"googledrive\")\n",
        "library(\"googledrive\")"
      ],
      "metadata": {
        "id": "EJyQpecqJMx-"
      },
      "execution_count": null,
      "outputs": []
    },
    {
      "cell_type": "code",
      "source": [
        "# authorize google drive\n",
        "drive_auth(\n",
        "  email = gargle::gargle_oauth_email(),\n",
        "  path = NULL,\n",
        "  scopes = \"https://www.googleapis.com/auth/drive\",\n",
        "  cache = gargle::gargle_oauth_cache(),\n",
        "  use_oob = gargle::gargle_oob_default(),\n",
        "  token = NULL\n",
        ")"
      ],
      "metadata": {
        "id": "jAi07vguKL2r"
      },
      "execution_count": null,
      "outputs": []
    },
    {
      "cell_type": "markdown",
      "source": [
        "# New Section"
      ],
      "metadata": {
        "id": "AmjpHM-GK2bn"
      }
    },
    {
      "cell_type": "code",
      "source": [
        "data <- \"/Mali_Coef.shp\""
      ],
      "metadata": {
        "id": "7Ai8tUqjcqwq"
      },
      "execution_count": null,
      "outputs": []
    },
    {
      "cell_type": "code",
      "source": [
        "shape <- read_sf(data)   # included with sf package\n",
        "ggplot(data = shape) +\n",
        "geom_sf()"
      ],
      "metadata": {
        "id": "3bey-WvPc5Ad"
      },
      "execution_count": null,
      "outputs": []
    },
    {
      "cell_type": "code",
      "source": [
        "df <- c(\"b0\", \"X1\", \"X2\", \"X3\", \"Longitude\", \"Latitude\") # Base columns with spatial information we'll need\n",
        "\n",
        "#substr(names(shape), 1, 1) <- toupper(substr(names(shape), 1, 1)) # Giving the host names capital letters\n",
        "\n",
        "#phen <- c(\"Grid\", \"ID\", \"Easting\", \"Northing\") # Base columns with spatial information we'll need\n",
        "shape$X3 <- ifelse(is.na(shape$X3), 0, shape$X3)\n",
        "\n",
        "\n",
        "resp <- \"b0\" # Response variable of Fatalities\n",
        "\n",
        "covar <- c(\"X1\", # Gold\n",
        "           \"X2\", # Population\n",
        "           \"X3\", # Transportation\n",
        "           \"popT_Ev\", #Conflicts\n",
        "           \"Year\") # Temporal\n",
        "\n"
      ],
      "metadata": {
        "id": "f3GyUGInyLCp"
      },
      "execution_count": null,
      "outputs": []
    },
    {
      "cell_type": "code",
      "source": [
        "Testshape <- shape$Geometry[, c(df, resp, covar)] # Getting rid of NA's, picking adults\n",
        "# We are using the [] to subset and only extract specific columns\n",
        "\n",
        "# Turning variables into factors\n",
        "Testshape$Month <- as.factor(Testshape$eventdate0\t)\n",
        "#Testshape$Grid <- as.factor(Testshape$Grid)\n",
        "\n",
        "Testshape$Join_Count <- round(Testshape$Join_Count) # Parasite counts should be integers\n",
        "\n",
        "table(table(Testshape$ID)) # Enough repeat samples for a mixed model?"
      ],
      "metadata": {
        "id": "CXCw_y6Y8OAE"
      },
      "execution_count": null,
      "outputs": []
    },
    {
      "cell_type": "code",
      "source": [
        "head(shape)\n",
        "install.packages(\"geojsonio\")\n",
        "data <- c(\"b0\", \"X1\", \"X2\", \"x3\", \"Longitude\", \"Latitude\") # Base columns with spatial information we'll need"
      ],
      "metadata": {
        "id": "AVL3myJvwr7a"
      },
      "execution_count": null,
      "outputs": []
    },
    {
      "cell_type": "code",
      "source": [],
      "metadata": {
        "id": "9IQf6ajc8MIs"
      },
      "execution_count": null,
      "outputs": []
    },
    {
      "cell_type": "code",
      "source": [],
      "metadata": {
        "id": "E3Ab7FCmyJrI"
      },
      "execution_count": null,
      "outputs": []
    },
    {
      "cell_type": "code",
      "source": [
        "# Assuming your shapefile is loaded into the 'sf_data' object\n",
        "\n",
        "# Extract the coordinates from the sf_data\n",
        "locs <- st_coordinates(shape)\n",
        "locs\n",
        "\n",
        "# Create a data frame with the coordinates\n",
        "locs_df <- data.frame(lon = locs[, 1], lat = locs[, 2])\n",
        "\n",
        "# Convert the data frame to an sf object\n",
        "#locs_sf <- st_as_sf(locs_df, coords = c(\"X\", \"Y\"), crs = st_crs(shape))\n",
        "\n",
        "head(locs_sf)"
      ],
      "metadata": {
        "id": "MFDXou3Hc7aH"
      },
      "execution_count": null,
      "outputs": []
    },
    {
      "cell_type": "code",
      "source": [
        "# Create a SPDE mesh\n",
        "max.edge = diff(range(st_coordinates(locs_sf)[,1]))/(3*5)\n",
        "#mesh1 = inla.mesh.2d(loc=st_coordinates(locs_sf),\n",
        "#                    max.edge = max.edge)\n",
        "mesh <- inla.mesh.2d(locs_sf$geometry, max.edge = max.edge)\n",
        "\n",
        "# Create SPDE structure\n",
        "spde_structure <- inla.spde2.matern(mesh = mesh, param = max.edge)\n",
        "\n",
        "plot(mesh)\n",
        "plot(spde_structure)\n",
        "\n",
        "\n",
        "\n"
      ],
      "metadata": {
        "id": "1Jpk4LWac_fU"
      },
      "execution_count": null,
      "outputs": []
    },
    {
      "cell_type": "code",
      "source": [],
      "metadata": {
        "id": "eByNkx5deIWC"
      },
      "execution_count": null,
      "outputs": []
    }
  ]
}